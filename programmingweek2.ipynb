{
  "nbformat": 4,
  "nbformat_minor": 0,
  "metadata": {
    "colab": {
      "name": "programmingweek2.ipynb",
      "provenance": [],
      "authorship_tag": "ABX9TyPlr+04GaZtk3cB/nehshjd",
      "include_colab_link": true
    },
    "kernelspec": {
      "name": "python3",
      "display_name": "Python 3"
    }
  },
  "cells": [
    {
      "cell_type": "markdown",
      "metadata": {
        "id": "view-in-github",
        "colab_type": "text"
      },
      "source": [
        "<a href=\"https://colab.research.google.com/github/meetsomto/dbs/blob/main/programmingweek2.ipynb\" target=\"_parent\"><img src=\"https://colab.research.google.com/assets/colab-badge.svg\" alt=\"Open In Colab\"/></a>"
      ]
    },
    {
      "cell_type": "markdown",
      "metadata": {
        "id": "poDM4OyhUP5r"
      },
      "source": [
        "# Lists"
      ]
    },
    {
      "cell_type": "code",
      "metadata": {
        "id": "LoT-UhGXTqTC"
      },
      "source": [
        "marks=[50,60,70,90,60]"
      ],
      "execution_count": null,
      "outputs": []
    },
    {
      "cell_type": "code",
      "metadata": {
        "id": "pc_hPH8UT6Rc"
      },
      "source": [
        "marks[0]=\"Abhi\""
      ],
      "execution_count": null,
      "outputs": []
    },
    {
      "cell_type": "code",
      "metadata": {
        "id": "s-E7s5MCT_vA",
        "outputId": "b7f6ed5f-37f5-48b2-fc4d-961d41604c3a",
        "colab": {
          "base_uri": "https://localhost:8080/"
        }
      },
      "source": [
        "print(marks)"
      ],
      "execution_count": null,
      "outputs": [
        {
          "output_type": "stream",
          "text": [
            "['Abhi', 60, 70, 90, 60]\n"
          ],
          "name": "stdout"
        }
      ]
    },
    {
      "cell_type": "code",
      "metadata": {
        "id": "V__TzKnlO0LG"
      },
      "source": [
        "height=[132,143,155,160,4]"
      ],
      "execution_count": null,
      "outputs": []
    },
    {
      "cell_type": "code",
      "metadata": {
        "id": "xYfuaXP2TbZx",
        "outputId": "76a37ea5-1a83-4a25-c5ce-c57cab5d9874",
        "colab": {
          "base_uri": "https://localhost:8080/"
        }
      },
      "source": [
        "height.pop(4)"
      ],
      "execution_count": null,
      "outputs": [
        {
          "output_type": "execute_result",
          "data": {
            "text/plain": [
              "4"
            ]
          },
          "metadata": {
            "tags": []
          },
          "execution_count": 2
        }
      ]
    },
    {
      "cell_type": "code",
      "metadata": {
        "id": "jm-BYI8_Te3U",
        "outputId": "ed5a3ce6-3c97-4aa6-f665-e417b5da72fc",
        "colab": {
          "base_uri": "https://localhost:8080/"
        }
      },
      "source": [
        "print(height)"
      ],
      "execution_count": null,
      "outputs": [
        {
          "output_type": "stream",
          "text": [
            "[132, 143, 155, 160]\n"
          ],
          "name": "stdout"
        }
      ]
    },
    {
      "cell_type": "code",
      "metadata": {
        "id": "VPWM2CepThoU"
      },
      "source": [
        "height.remove(132)"
      ],
      "execution_count": null,
      "outputs": []
    },
    {
      "cell_type": "code",
      "metadata": {
        "id": "iDYfERcqToHO",
        "outputId": "907e23c1-f5c1-46f3-a25b-61bfcec7d1da",
        "colab": {
          "base_uri": "https://localhost:8080/"
        }
      },
      "source": [
        "print(height)"
      ],
      "execution_count": null,
      "outputs": [
        {
          "output_type": "stream",
          "text": [
            "[143, 155, 160]\n"
          ],
          "name": "stdout"
        }
      ]
    },
    {
      "cell_type": "code",
      "metadata": {
        "id": "Qy37ySu5UUe0"
      },
      "source": [
        "marks.extend(height)"
      ],
      "execution_count": null,
      "outputs": []
    },
    {
      "cell_type": "code",
      "metadata": {
        "id": "yAsHJ9pfUXmd",
        "outputId": "a269edd1-5099-47ec-fa30-6ee7530ba473",
        "colab": {
          "base_uri": "https://localhost:8080/"
        }
      },
      "source": [
        "print(marks)"
      ],
      "execution_count": null,
      "outputs": [
        {
          "output_type": "stream",
          "text": [
            "['Abhi', 60, 70, 90, 60, 143, 155, 160]\n"
          ],
          "name": "stdout"
        }
      ]
    },
    {
      "cell_type": "code",
      "metadata": {
        "id": "r4_3o-eKUZmo",
        "outputId": "85d78fdd-0e0d-47b5-e29f-92e97dfbfe21",
        "colab": {
          "base_uri": "https://localhost:8080/"
        }
      },
      "source": [
        "# slicing string\n",
        "name=\"Abhishek Kaushik\"\n",
        "\n",
        "short=name[0:4]\n",
        "print(short)"
      ],
      "execution_count": null,
      "outputs": [
        {
          "output_type": "stream",
          "text": [
            "Abhi\n"
          ],
          "name": "stdout"
        }
      ]
    },
    {
      "cell_type": "code",
      "metadata": {
        "id": "9RmcCg1BU0mn",
        "outputId": "7e15c9fb-0857-4475-c8ac-f19a3d18f2ea",
        "colab": {
          "base_uri": "https://localhost:8080/"
        }
      },
      "source": [
        "short_list=marks[0:4]\n",
        "print(short_list)"
      ],
      "execution_count": null,
      "outputs": [
        {
          "output_type": "stream",
          "text": [
            "['Abhi', 60, 70, 90]\n"
          ],
          "name": "stdout"
        }
      ]
    },
    {
      "cell_type": "code",
      "metadata": {
        "id": "4BSjnKIMU_UX",
        "outputId": "4cf9713d-bdfc-4096-e86a-513b64c56ddb",
        "colab": {
          "base_uri": "https://localhost:8080/"
        }
      },
      "source": [
        "name = \"Abhi\" #string\n",
        "name1= [\"A\", \"b\", \"h\", \"i\"] #list\n",
        "\n",
        "slic1 = name[0:2]\n",
        "slic2 = name1[0:2]\n",
        "\n",
        "print(slic1)\n",
        "print(slic2)"
      ],
      "execution_count": null,
      "outputs": [
        {
          "output_type": "stream",
          "text": [
            "Ab\n",
            "['A', 'b']\n"
          ],
          "name": "stdout"
        }
      ]
    },
    {
      "cell_type": "code",
      "metadata": {
        "id": "UVUuCwO8VjYK",
        "outputId": "0b178154-8c2c-4d4a-8296-a89913f3ee37",
        "colab": {
          "base_uri": "https://localhost:8080/"
        }
      },
      "source": [
        "print(type(name))\n",
        "\n",
        "print(type(name1))"
      ],
      "execution_count": null,
      "outputs": [
        {
          "output_type": "stream",
          "text": [
            "<class 'str'>\n",
            "<class 'list'>\n"
          ],
          "name": "stdout"
        }
      ]
    },
    {
      "cell_type": "code",
      "metadata": {
        "id": "x8S5Mw0PV4Ix",
        "outputId": "c3289a88-f18d-4e2c-92b1-4a8fec5ce1d6",
        "colab": {
          "base_uri": "https://localhost:8080/"
        }
      },
      "source": [
        "marks2=[45,54,67,87,54]\n",
        "print(len(marks2))"
      ],
      "execution_count": null,
      "outputs": [
        {
          "output_type": "stream",
          "text": [
            "5\n"
          ],
          "name": "stdout"
        }
      ]
    },
    {
      "cell_type": "code",
      "metadata": {
        "id": "SRq2n-yRWGlK",
        "outputId": "4994c306-b7c8-4fce-caba-a318bd43d8df",
        "colab": {
          "base_uri": "https://localhost:8080/"
        }
      },
      "source": [
        "print(sum(marks2))"
      ],
      "execution_count": null,
      "outputs": [
        {
          "output_type": "stream",
          "text": [
            "307\n"
          ],
          "name": "stdout"
        }
      ]
    },
    {
      "cell_type": "markdown",
      "metadata": {
        "id": "tNb8VMBjWXpm"
      },
      "source": [
        "## Tuple \n",
        "### immutable"
      ]
    },
    {
      "cell_type": "code",
      "metadata": {
        "id": "dpu8K3RdWY-y"
      },
      "source": [
        "A=()\n"
      ],
      "execution_count": null,
      "outputs": []
    },
    {
      "cell_type": "code",
      "metadata": {
        "id": "Fr2M9nffWhBJ",
        "outputId": "2d2fb995-0889-427b-f069-89013e2242f7",
        "colab": {
          "base_uri": "https://localhost:8080/"
        }
      },
      "source": [
        "print(type(A))"
      ],
      "execution_count": null,
      "outputs": [
        {
          "output_type": "stream",
          "text": [
            "<class 'tuple'>\n"
          ],
          "name": "stdout"
        }
      ]
    },
    {
      "cell_type": "code",
      "metadata": {
        "id": "x8EGjGyyWitq",
        "outputId": "413ecb72-0f12-48b4-dccb-b0176f32ae30",
        "colab": {
          "base_uri": "https://localhost:8080/"
        }
      },
      "source": [
        "A=(\"A\")\n",
        "print(type(A))"
      ],
      "execution_count": null,
      "outputs": [
        {
          "output_type": "stream",
          "text": [
            "<class 'str'>\n"
          ],
          "name": "stdout"
        }
      ]
    },
    {
      "cell_type": "code",
      "metadata": {
        "id": "6ATy7ZbuWn8a",
        "outputId": "2a6c79da-455f-4eec-93ac-bdd679a97bef",
        "colab": {
          "base_uri": "https://localhost:8080/"
        }
      },
      "source": [
        "A=(\"A\",)\n",
        "print(type(A))"
      ],
      "execution_count": null,
      "outputs": [
        {
          "output_type": "stream",
          "text": [
            "<class 'tuple'>\n"
          ],
          "name": "stdout"
        }
      ]
    },
    {
      "cell_type": "code",
      "metadata": {
        "id": "1IkpuDm0WzK7",
        "outputId": "741dc455-45f0-4b31-d22a-f668a0deb3b8",
        "colab": {
          "base_uri": "https://localhost:8080/"
        }
      },
      "source": [
        "marks=(45,65,76,43)\n",
        "print(type(marks))"
      ],
      "execution_count": null,
      "outputs": [
        {
          "output_type": "stream",
          "text": [
            "<class 'tuple'>\n"
          ],
          "name": "stdout"
        }
      ]
    },
    {
      "cell_type": "code",
      "metadata": {
        "id": "BY4iC_rvXCmq",
        "outputId": "d34f8a3e-fc20-4928-9155-be596e9d6c7b",
        "colab": {
          "base_uri": "https://localhost:8080/",
          "height": 164
        }
      },
      "source": [
        "marks[0] =76 #tuple is immutable and does not support item assignment"
      ],
      "execution_count": null,
      "outputs": [
        {
          "output_type": "error",
          "ename": "TypeError",
          "evalue": "ignored",
          "traceback": [
            "\u001b[0;31m---------------------------------------------------------------------------\u001b[0m",
            "\u001b[0;31mTypeError\u001b[0m                                 Traceback (most recent call last)",
            "\u001b[0;32m<ipython-input-30-121e345c3aad>\u001b[0m in \u001b[0;36m<module>\u001b[0;34m()\u001b[0m\n\u001b[0;32m----> 1\u001b[0;31m \u001b[0mmarks\u001b[0m\u001b[0;34m[\u001b[0m\u001b[0;36m0\u001b[0m\u001b[0;34m]\u001b[0m \u001b[0;34m=\u001b[0m\u001b[0;36m76\u001b[0m \u001b[0;31m#tuple is immutable and does not support item assignment\u001b[0m\u001b[0;34m\u001b[0m\u001b[0;34m\u001b[0m\u001b[0m\n\u001b[0m",
            "\u001b[0;31mTypeError\u001b[0m: 'tuple' object does not support item assignment"
          ]
        }
      ]
    },
    {
      "cell_type": "code",
      "metadata": {
        "id": "SFvDChyqXMv3"
      },
      "source": [
        "## Dictionary"
      ],
      "execution_count": null,
      "outputs": []
    },
    {
      "cell_type": "code",
      "metadata": {
        "id": "r2oacEaLXWmI"
      },
      "source": [
        "phone_no={\"Rohan\":99999,\"Mohan\":8888,\"Sohan\":56383836}"
      ],
      "execution_count": null,
      "outputs": []
    },
    {
      "cell_type": "code",
      "metadata": {
        "id": "WQRl4skoXla2",
        "outputId": "b1c57dbb-b210-4de8-89c2-061828e2ab42",
        "colab": {
          "base_uri": "https://localhost:8080/"
        }
      },
      "source": [
        "print(phone_no[\"Rohan\"])"
      ],
      "execution_count": null,
      "outputs": [
        {
          "output_type": "stream",
          "text": [
            "99999\n"
          ],
          "name": "stdout"
        }
      ]
    },
    {
      "cell_type": "code",
      "metadata": {
        "id": "5EpiZrsKXrAu",
        "outputId": "9a830433-47e9-4822-dd0f-f9491c3a8ce4",
        "colab": {
          "base_uri": "https://localhost:8080/",
          "height": 164
        }
      },
      "source": [
        "print(phone_no[99999])"
      ],
      "execution_count": null,
      "outputs": [
        {
          "output_type": "error",
          "ename": "KeyError",
          "evalue": "ignored",
          "traceback": [
            "\u001b[0;31m---------------------------------------------------------------------------\u001b[0m",
            "\u001b[0;31mKeyError\u001b[0m                                  Traceback (most recent call last)",
            "\u001b[0;32m<ipython-input-34-686d9f614a6b>\u001b[0m in \u001b[0;36m<module>\u001b[0;34m()\u001b[0m\n\u001b[0;32m----> 1\u001b[0;31m \u001b[0mprint\u001b[0m\u001b[0;34m(\u001b[0m\u001b[0mphone_no\u001b[0m\u001b[0;34m[\u001b[0m\u001b[0;36m99999\u001b[0m\u001b[0;34m]\u001b[0m\u001b[0;34m)\u001b[0m\u001b[0;34m\u001b[0m\u001b[0;34m\u001b[0m\u001b[0m\n\u001b[0m",
            "\u001b[0;31mKeyError\u001b[0m: 99999"
          ]
        }
      ]
    },
    {
      "cell_type": "code",
      "metadata": {
        "id": "FFSuHqgiX22u",
        "outputId": "b1f6daea-cda7-4ace-a298-f49ff1526b5a",
        "colab": {
          "base_uri": "https://localhost:8080/"
        }
      },
      "source": [
        "print(phone_no.items)"
      ],
      "execution_count": null,
      "outputs": [
        {
          "output_type": "stream",
          "text": [
            "<built-in method items of dict object at 0x7f9fbb37ab88>\n"
          ],
          "name": "stdout"
        }
      ]
    },
    {
      "cell_type": "code",
      "metadata": {
        "id": "i_jA7MulYAZU",
        "outputId": "ed620eca-7ea1-4b3f-9883-12d00af9aec1",
        "colab": {
          "base_uri": "https://localhost:8080/"
        }
      },
      "source": [
        "for x in phone_no.items():\n",
        "  print(x)"
      ],
      "execution_count": null,
      "outputs": [
        {
          "output_type": "stream",
          "text": [
            "('Rohan', 99999)\n",
            "('Mohan', 8888)\n",
            "('Sohan', 56383836)\n"
          ],
          "name": "stdout"
        }
      ]
    },
    {
      "cell_type": "code",
      "metadata": {
        "id": "Kkf5Gl4xYTb1",
        "outputId": "5acd68c3-b5af-4940-85ec-a6b479ea4744",
        "colab": {
          "base_uri": "https://localhost:8080/"
        }
      },
      "source": [
        "for x in phone_no.values():\n",
        "  print(x)"
      ],
      "execution_count": null,
      "outputs": [
        {
          "output_type": "stream",
          "text": [
            "99999\n",
            "8888\n",
            "56383836\n"
          ],
          "name": "stdout"
        }
      ]
    },
    {
      "cell_type": "code",
      "metadata": {
        "id": "PlmB8fHyYiYg"
      },
      "source": [
        "# Dict of 4 numbers, print a number with a string query\n",
        "\n",
        "## print(\"Hello for your search query {} the number is {}\".format(query,number))"
      ],
      "execution_count": null,
      "outputs": []
    },
    {
      "cell_type": "code",
      "metadata": {
        "id": "QqMupYc2ZT9z",
        "outputId": "6a97a6a8-6f62-4648-bc9b-fd64fa0cd23d",
        "colab": {
          "base_uri": "https://localhost:8080/"
        }
      },
      "source": [
        "phone_number={\"Somto\":1111,\"Rohan\":2222,\"Abhi\":33333}\n",
        "query=\"Rohan\"\n",
        "contact=phone_number[query]\n",
        "print(\"Hello, for your search query '{}', the phone number is {}\".format(query,contact))"
      ],
      "execution_count": null,
      "outputs": [
        {
          "output_type": "stream",
          "text": [
            "Hello, for your search query 'Rohan', the phone number is 2222\n"
          ],
          "name": "stdout"
        }
      ]
    },
    {
      "cell_type": "markdown",
      "metadata": {
        "id": "UsneHJopcd_m"
      },
      "source": [
        "## Boolean Ops"
      ]
    },
    {
      "cell_type": "code",
      "metadata": {
        "id": "wqbZKNmFcg7I",
        "outputId": "81ba0552-d751-4ea0-8718-c2eb0da35963",
        "colab": {
          "base_uri": "https://localhost:8080/"
        }
      },
      "source": [
        "5>7"
      ],
      "execution_count": null,
      "outputs": [
        {
          "output_type": "execute_result",
          "data": {
            "text/plain": [
              "False"
            ]
          },
          "metadata": {
            "tags": []
          },
          "execution_count": 48
        }
      ]
    },
    {
      "cell_type": "code",
      "metadata": {
        "id": "SJ60UnFvdK9E",
        "outputId": "a698e9f8-0904-4ad2-d5a2-af813a520a6d",
        "colab": {
          "base_uri": "https://localhost:8080/"
        }
      },
      "source": [
        "7>6"
      ],
      "execution_count": null,
      "outputs": [
        {
          "output_type": "execute_result",
          "data": {
            "text/plain": [
              "True"
            ]
          },
          "metadata": {
            "tags": []
          },
          "execution_count": 49
        }
      ]
    },
    {
      "cell_type": "code",
      "metadata": {
        "id": "41SjmJekdM0K",
        "outputId": "0c8cd601-13ea-4740-a675-e8892adb2438",
        "colab": {
          "base_uri": "https://localhost:8080/"
        }
      },
      "source": [
        "results=5+(5<6)  #integer + boolean works as a typecasting exception, true =1\n",
        "print(results)"
      ],
      "execution_count": null,
      "outputs": [
        {
          "output_type": "stream",
          "text": [
            "6\n"
          ],
          "name": "stdout"
        }
      ]
    },
    {
      "cell_type": "code",
      "metadata": {
        "id": "N9NnnqNmdiJV",
        "outputId": "5eba77e9-8376-4709-9cc3-e5a3cba5fded",
        "colab": {
          "base_uri": "https://localhost:8080/",
          "height": 181
        }
      },
      "source": [
        "output = \"abhi\"+(5<6)\n",
        "print(output)  #typecasting doesnt work for string + bool"
      ],
      "execution_count": null,
      "outputs": [
        {
          "output_type": "error",
          "ename": "TypeError",
          "evalue": "ignored",
          "traceback": [
            "\u001b[0;31m---------------------------------------------------------------------------\u001b[0m",
            "\u001b[0;31mTypeError\u001b[0m                                 Traceback (most recent call last)",
            "\u001b[0;32m<ipython-input-53-ce7bb3b4b72b>\u001b[0m in \u001b[0;36m<module>\u001b[0;34m()\u001b[0m\n\u001b[0;32m----> 1\u001b[0;31m \u001b[0moutput\u001b[0m \u001b[0;34m=\u001b[0m \u001b[0;34m\"abhi\"\u001b[0m\u001b[0;34m+\u001b[0m\u001b[0;34m(\u001b[0m\u001b[0;36m5\u001b[0m\u001b[0;34m<\u001b[0m\u001b[0;36m6\u001b[0m\u001b[0;34m)\u001b[0m\u001b[0;34m\u001b[0m\u001b[0;34m\u001b[0m\u001b[0m\n\u001b[0m\u001b[1;32m      2\u001b[0m \u001b[0mprint\u001b[0m\u001b[0;34m(\u001b[0m\u001b[0moutput\u001b[0m\u001b[0;34m)\u001b[0m\u001b[0;34m\u001b[0m\u001b[0;34m\u001b[0m\u001b[0m\n",
            "\u001b[0;31mTypeError\u001b[0m: must be str, not bool"
          ]
        }
      ]
    },
    {
      "cell_type": "code",
      "metadata": {
        "id": "AOy4lze_d79i"
      },
      "source": [
        "### python is declarative by default\n",
        "### definition\n",
        "### calling \n",
        "\n"
      ],
      "execution_count": null,
      "outputs": []
    },
    {
      "cell_type": "code",
      "metadata": {
        "id": "cinGx9a8fENj",
        "outputId": "1de9a85b-afef-4487-ad6f-a582ba7d5fd1",
        "colab": {
          "base_uri": "https://localhost:8080/"
        }
      },
      "source": [
        "def arith(): # () is used to parse in parameters\n",
        "  A = 50\n",
        "  B = 60\n",
        "  print(\"The average of {} and {} is {}\".format(A,B, (A+B)/2))\n",
        "\n",
        "arith()"
      ],
      "execution_count": null,
      "outputs": [
        {
          "output_type": "stream",
          "text": [
            "The average of 50 and 60 is 55.0\n"
          ],
          "name": "stdout"
        }
      ]
    },
    {
      "cell_type": "code",
      "metadata": {
        "id": "TJjH5wB1fgY-"
      },
      "source": [
        "def avg(A, B): \n",
        "  print(\"The average of {} and {} is {}\".format(A,B, (A+B)/2))"
      ],
      "execution_count": null,
      "outputs": []
    },
    {
      "cell_type": "code",
      "metadata": {
        "id": "vz-N9Y2XgTu4",
        "outputId": "f612221f-7b8a-4b28-c72d-11cebc4e97b7",
        "colab": {
          "base_uri": "https://localhost:8080/"
        }
      },
      "source": [
        "avg(30,60)"
      ],
      "execution_count": null,
      "outputs": [
        {
          "output_type": "stream",
          "text": [
            "The average of 30 and 60 is 45.0\n"
          ],
          "name": "stdout"
        }
      ]
    },
    {
      "cell_type": "code",
      "metadata": {
        "id": "JFJRmHrogWlB"
      },
      "source": [
        "## function to print fullname with fname and Lname\n",
        "\n",
        "def name(first_name, last_name):\n",
        "  print(\"My full name is {} {}\".format(first_name, last_name))"
      ],
      "execution_count": null,
      "outputs": []
    },
    {
      "cell_type": "code",
      "metadata": {
        "id": "4G6yCwRYgmJa",
        "outputId": "3f0ed9f0-6ae4-47b1-9414-17560adf1f0d",
        "colab": {
          "base_uri": "https://localhost:8080/"
        }
      },
      "source": [
        "name('Somto', 'Mbanefo')"
      ],
      "execution_count": null,
      "outputs": [
        {
          "output_type": "stream",
          "text": [
            "My full name is Somto Mbanefo\n"
          ],
          "name": "stdout"
        }
      ]
    },
    {
      "cell_type": "code",
      "metadata": {
        "id": "lShv4pZDhDWi"
      },
      "source": [
        "## generate a nickname using first 50% letters of name\n",
        "\n",
        "def nickname(firstname, lastname):\n",
        "  print(\"A suggested nickname is {}{}\".format(firstname[0:3], lastname[0:3]))"
      ],
      "execution_count": null,
      "outputs": []
    },
    {
      "cell_type": "code",
      "metadata": {
        "id": "LZ4n7Gafio8S",
        "outputId": "48cc6de2-6beb-49be-d6b4-ebe33af66f12",
        "colab": {
          "base_uri": "https://localhost:8080/"
        }
      },
      "source": [
        "nickname('Somto', 'Mbanefo')"
      ],
      "execution_count": null,
      "outputs": [
        {
          "output_type": "stream",
          "text": [
            "A suggested nickname is SomMba\n"
          ],
          "name": "stdout"
        }
      ]
    },
    {
      "cell_type": "code",
      "metadata": {
        "id": "wxpUVMKBiwBU"
      },
      "source": [
        "import math\n",
        "def nick(first_name, last_name):\n",
        "  first_nick = first_name[0:math.ceil(len(first_name)/2)]\n",
        "  last_nick = last_name[0:math.floor(len(last_name) /2)]\n",
        "\n",
        "  print(\"A suggested nickname is {}{}\".format(first_nick, str.lower(last_nick)))"
      ],
      "execution_count": null,
      "outputs": []
    },
    {
      "cell_type": "code",
      "metadata": {
        "id": "Dw1sUrE6l3al",
        "outputId": "a4e4574a-6eae-47f5-d2ab-a930b4d47991",
        "colab": {
          "base_uri": "https://localhost:8080/"
        }
      },
      "source": [
        "nick('Somto', 'Mbanefo')"
      ],
      "execution_count": null,
      "outputs": [
        {
          "output_type": "stream",
          "text": [
            "A suggested nickname is Sommba\n"
          ],
          "name": "stdout"
        }
      ]
    },
    {
      "cell_type": "code",
      "metadata": {
        "id": "ssfCmAX4j2OA"
      },
      "source": [
        "# annual income i, tax rate r (if i <=32k then r = 20%, \n",
        "                            #  if 32k < i AND <= 60k then r 40%, \n",
        "                            #   IF I > 60k then r = 50%), find monthly income and monthly income tax\n",
        " # Calculate monthly salary and tax "
      ],
      "execution_count": null,
      "outputs": []
    },
    {
      "cell_type": "code",
      "metadata": {
        "id": "0x1lhC6Culio",
        "outputId": "ff43f198-c863-4d51-b355-d438908161f2",
        "colab": {
          "base_uri": "https://localhost:8080/",
          "height": 334
        }
      },
      "source": [
        "def monthlySlip():\n",
        "    annual_gross_income = float(input(\"Enter annual gross income: \"))\n",
        "    tax_rate == \n",
        "    if annual_gross_income < 32000:\n",
        "      tax_rate == 20\n",
        "    elif annual_gross_income < 60000 AND gross_income == 60000:\n",
        "      tax_rate == 40\n",
        "    elif annual_gross_income > 60000:\n",
        "      tax_rate == 50\n",
        "    else:\n",
        "      print(\"your annual income is not taxable\")\n",
        "      \n",
        "    annual_net_pay = annual_gross_income - ((tax_rate / 100) * annual_gross_income)\n",
        "\n",
        "    print(\"\\n Gross pay: {}\\n Tax Rate: {}% \\n Net Pay: {} euro\".format(annual_gross_income, tax_rate, annual_net_pay))\n",
        "\n",
        "monthlySlip()"
      ],
      "execution_count": null,
      "outputs": [
        {
          "output_type": "stream",
          "text": [
            "Enter annual gross income: 60500\n"
          ],
          "name": "stdout"
        },
        {
          "output_type": "error",
          "ename": "NameError",
          "evalue": "ignored",
          "traceback": [
            "\u001b[0;31m---------------------------------------------------------------------------\u001b[0m",
            "\u001b[0;31mNameError\u001b[0m                                 Traceback (most recent call last)",
            "\u001b[0;32m<ipython-input-164-c237fd8ccc2c>\u001b[0m in \u001b[0;36m<module>\u001b[0;34m()\u001b[0m\n\u001b[1;32m     16\u001b[0m     \u001b[0mprint\u001b[0m\u001b[0;34m(\u001b[0m\u001b[0;34m\"\\n Gross pay: {}\\n Tax Rate: {}% \\n Net Pay: {} euro\"\u001b[0m\u001b[0;34m.\u001b[0m\u001b[0mformat\u001b[0m\u001b[0;34m(\u001b[0m\u001b[0mannual_gross_income\u001b[0m\u001b[0;34m,\u001b[0m \u001b[0mtax_rate\u001b[0m\u001b[0;34m,\u001b[0m \u001b[0mannual_net_pay\u001b[0m\u001b[0;34m)\u001b[0m\u001b[0;34m)\u001b[0m\u001b[0;34m\u001b[0m\u001b[0;34m\u001b[0m\u001b[0m\n\u001b[1;32m     17\u001b[0m \u001b[0;34m\u001b[0m\u001b[0m\n\u001b[0;32m---> 18\u001b[0;31m \u001b[0mmonthlySlip\u001b[0m\u001b[0;34m(\u001b[0m\u001b[0;34m)\u001b[0m\u001b[0;34m\u001b[0m\u001b[0;34m\u001b[0m\u001b[0m\n\u001b[0m",
            "\u001b[0;32m<ipython-input-164-c237fd8ccc2c>\u001b[0m in \u001b[0;36mmonthlySlip\u001b[0;34m()\u001b[0m\n\u001b[1;32m      8\u001b[0m       \u001b[0mtax_rate\u001b[0m \u001b[0;34m==\u001b[0m \u001b[0;36m40\u001b[0m\u001b[0;34m\u001b[0m\u001b[0;34m\u001b[0m\u001b[0m\n\u001b[1;32m      9\u001b[0m     \u001b[0;32melif\u001b[0m \u001b[0mannual_gross_income\u001b[0m \u001b[0;34m>\u001b[0m \u001b[0;36m60000\u001b[0m\u001b[0;34m:\u001b[0m\u001b[0;34m\u001b[0m\u001b[0;34m\u001b[0m\u001b[0m\n\u001b[0;32m---> 10\u001b[0;31m       \u001b[0mtax_rate\u001b[0m \u001b[0;34m==\u001b[0m \u001b[0;36m50\u001b[0m\u001b[0;34m\u001b[0m\u001b[0;34m\u001b[0m\u001b[0m\n\u001b[0m\u001b[1;32m     11\u001b[0m     \u001b[0;32melse\u001b[0m\u001b[0;34m:\u001b[0m\u001b[0;34m\u001b[0m\u001b[0;34m\u001b[0m\u001b[0m\n\u001b[1;32m     12\u001b[0m       \u001b[0mprint\u001b[0m\u001b[0;34m(\u001b[0m\u001b[0;34m\"your annual income is not taxable\"\u001b[0m\u001b[0;34m)\u001b[0m\u001b[0;34m\u001b[0m\u001b[0;34m\u001b[0m\u001b[0m\n",
            "\u001b[0;31mNameError\u001b[0m: name 'tax_rate' is not defined"
          ]
        }
      ]
    },
    {
      "cell_type": "markdown",
      "metadata": {
        "id": "aBtdeQJn5iz-"
      },
      "source": [
        "## Set"
      ]
    },
    {
      "cell_type": "code",
      "metadata": {
        "id": "i5ci7cPG5kZe",
        "outputId": "6d107a9f-9c10-4b7d-a95c-486c601dd1ac",
        "colab": {
          "base_uri": "https://localhost:8080/"
        }
      },
      "source": [
        "thisset = {\"apple\", \"banana\",  \"cherry\"}\n",
        "print(thisset)"
      ],
      "execution_count": null,
      "outputs": [
        {
          "output_type": "stream",
          "text": [
            "{'banana', 'apple', 'cherry'}\n"
          ],
          "name": "stdout"
        }
      ]
    },
    {
      "cell_type": "code",
      "metadata": {
        "id": "OXh8WLL15vWJ",
        "outputId": "0eab0267-59ef-4fb9-c03c-0f3fd6175fa5",
        "colab": {
          "base_uri": "https://localhost:8080/"
        }
      },
      "source": [
        "thisset.add(\"orange\")\n",
        "print(thisset)"
      ],
      "execution_count": null,
      "outputs": [
        {
          "output_type": "stream",
          "text": [
            "{'orange', 'banana', 'apple', 'cherry'}\n"
          ],
          "name": "stdout"
        }
      ]
    },
    {
      "cell_type": "code",
      "metadata": {
        "id": "_0E-oJbQ-0Dt",
        "outputId": "fea2cf08-3e4a-4b5b-d8e3-2eebad95cff4",
        "colab": {
          "base_uri": "https://localhost:8080/"
        }
      },
      "source": [
        "thisset.remove(\"banana\")\n",
        "print(thisset)"
      ],
      "execution_count": null,
      "outputs": [
        {
          "output_type": "stream",
          "text": [
            "{'grapes', 'orange', 'apple', 'cherry', 'mango'}\n"
          ],
          "name": "stdout"
        }
      ]
    },
    {
      "cell_type": "code",
      "metadata": {
        "id": "vCxEAgI_56Ra",
        "outputId": "c62db7d0-ed38-4bba-ff62-50e4eb2c547c",
        "colab": {
          "base_uri": "https://localhost:8080/"
        }
      },
      "source": [
        "thisset.update([\"grapes\", \"mango\"])\n",
        "print(thisset)"
      ],
      "execution_count": null,
      "outputs": [
        {
          "output_type": "stream",
          "text": [
            "{'grapes', 'orange', 'apple', 'cherry', 'mango'}\n"
          ],
          "name": "stdout"
        }
      ]
    },
    {
      "cell_type": "code",
      "metadata": {
        "id": "8eJYUQpP6Jux",
        "outputId": "8352717c-9c3a-4d82-bda3-45e3880e01af",
        "colab": {
          "base_uri": "https://localhost:8080/"
        }
      },
      "source": [
        "thisset.discard(\"apple\")\n",
        "print(thisset)"
      ],
      "execution_count": null,
      "outputs": [
        {
          "output_type": "stream",
          "text": [
            "{'grapes', 'orange', 'cherry', 'mango'}\n"
          ],
          "name": "stdout"
        }
      ]
    },
    {
      "cell_type": "code",
      "metadata": {
        "id": "yF9ut1Oa_Jgt",
        "outputId": "708492b2-d0bf-41de-e872-c3084d118e63",
        "colab": {
          "base_uri": "https://localhost:8080/"
        }
      },
      "source": [
        "print(len(thisset))"
      ],
      "execution_count": null,
      "outputs": [
        {
          "output_type": "stream",
          "text": [
            "4\n"
          ],
          "name": "stdout"
        }
      ]
    },
    {
      "cell_type": "code",
      "metadata": {
        "id": "oBKxgPer_M-r"
      },
      "source": [
        "set.clear(thisset)"
      ],
      "execution_count": null,
      "outputs": []
    },
    {
      "cell_type": "code",
      "metadata": {
        "id": "9RTv4ggl_U7c",
        "outputId": "38612611-5132-4448-90cc-04c66ac9f9eb",
        "colab": {
          "base_uri": "https://localhost:8080/"
        }
      },
      "source": [
        "print(thisset)"
      ],
      "execution_count": null,
      "outputs": [
        {
          "output_type": "stream",
          "text": [
            "set()\n"
          ],
          "name": "stdout"
        }
      ]
    },
    {
      "cell_type": "code",
      "metadata": {
        "id": "fpgJE32t_cLz"
      },
      "source": [
        "del (thisset)"
      ],
      "execution_count": null,
      "outputs": []
    },
    {
      "cell_type": "code",
      "metadata": {
        "id": "XsMfZilm_btz",
        "outputId": "c7f3173f-deb3-4222-9fd7-caa319e5c82d",
        "colab": {
          "base_uri": "https://localhost:8080/",
          "height": 164
        }
      },
      "source": [
        "print(thisset)"
      ],
      "execution_count": null,
      "outputs": [
        {
          "output_type": "error",
          "ename": "NameError",
          "evalue": "ignored",
          "traceback": [
            "\u001b[0;31m---------------------------------------------------------------------------\u001b[0m",
            "\u001b[0;31mNameError\u001b[0m                                 Traceback (most recent call last)",
            "\u001b[0;32m<ipython-input-142-14f3ce60922e>\u001b[0m in \u001b[0;36m<module>\u001b[0;34m()\u001b[0m\n\u001b[0;32m----> 1\u001b[0;31m \u001b[0mprint\u001b[0m\u001b[0;34m(\u001b[0m\u001b[0mthisset\u001b[0m\u001b[0;34m)\u001b[0m\u001b[0;34m\u001b[0m\u001b[0;34m\u001b[0m\u001b[0m\n\u001b[0m",
            "\u001b[0;31mNameError\u001b[0m: name 'thisset' is not defined"
          ]
        }
      ]
    },
    {
      "cell_type": "code",
      "metadata": {
        "id": "JvE4EED16Pin",
        "outputId": "585c6a02-d6f7-4af3-e8d9-b722011facea",
        "colab": {
          "base_uri": "https://localhost:8080/"
        }
      },
      "source": [
        "fname = input(\"Please enter your first name: \")\n",
        "sname = input(\"Please enter your last name: \")\n",
        "print(\"This ticket is booked in the name of {} for Europe tour\".format(fname + \" \" + sname))"
      ],
      "execution_count": null,
      "outputs": [
        {
          "output_type": "stream",
          "text": [
            "Please enter your first name: som\n",
            "Please enter your last name: nefo\n",
            "This ticket is booked in the name of som nefo for Europe tour\n"
          ],
          "name": "stdout"
        }
      ]
    },
    {
      "cell_type": "code",
      "metadata": {
        "id": "dP7awun764Ms",
        "outputId": "b3a42568-4491-4c23-d7cb-5530ff7a619b",
        "colab": {
          "base_uri": "https://localhost:8080/"
        }
      },
      "source": [
        "first_eleven = input(\"Enter the names: \")\n",
        "split_eleven = first_eleven.split(\" \")\n",
        "print(split_eleven)\n"
      ],
      "execution_count": null,
      "outputs": [
        {
          "output_type": "stream",
          "text": [
            "Enter the names: one two three four five six seven eight nine ten eleven\n",
            "['one', 'two', 'three', 'four', 'five', 'six', 'seven', 'eight', 'nine', 'ten', 'eleven']\n"
          ],
          "name": "stdout"
        }
      ]
    },
    {
      "cell_type": "code",
      "metadata": {
        "id": "JCWezUNB-ofI",
        "outputId": "48151bcc-2453-4c39-d748-84d27bb2116b",
        "colab": {
          "base_uri": "https://localhost:8080/"
        }
      },
      "source": [
        "set1 = {\"a\", \"b\", \"c\", \"d\", 4}\n",
        "set2 = {1,2,3,4}\n",
        "set3 = set1.union(set2)\n",
        "print(set3) #set does not duplicate 4"
      ],
      "execution_count": null,
      "outputs": [
        {
          "output_type": "stream",
          "text": [
            "{1, 2, 3, 4, 'b', 'c', 'd', 'a'}\n"
          ],
          "name": "stdout"
        }
      ]
    },
    {
      "cell_type": "code",
      "metadata": {
        "id": "boZM20en_zcE",
        "outputId": "37f59be4-71c7-4711-88a9-9acf2e6dec48",
        "colab": {
          "base_uri": "https://localhost:8080/"
        }
      },
      "source": [
        "set1.update(set2)\n",
        "print(set1)"
      ],
      "execution_count": null,
      "outputs": [
        {
          "output_type": "stream",
          "text": [
            "{1, 2, 3, 4, 'b', 'a', 'c', 'd'}\n"
          ],
          "name": "stdout"
        }
      ]
    },
    {
      "cell_type": "code",
      "metadata": {
        "id": "qciVpS-OAJK3"
      },
      "source": [
        ""
      ],
      "execution_count": null,
      "outputs": []
    },
    {
      "cell_type": "markdown",
      "metadata": {
        "id": "ipF6HBhnAcla"
      },
      "source": [
        "## Control Conditions\n",
        "> <= >= == != < >\n",
        "\n",
        "\n",
        "\n",
        "\n"
      ]
    },
    {
      "cell_type": "code",
      "metadata": {
        "id": "ETgc8TobAyt4",
        "outputId": "225cded2-4822-486a-ffa7-4f642a17b877",
        "colab": {
          "base_uri": "https://localhost:8080/"
        }
      },
      "source": [
        "your_shopping=350\n",
        "if your_shopping>300:\n",
        "  print(\"impressive!\")\n",
        "else:\n",
        "  print(\"quite a budget!\")"
      ],
      "execution_count": null,
      "outputs": [
        {
          "output_type": "stream",
          "text": [
            "impressive!\n"
          ],
          "name": "stdout"
        }
      ]
    },
    {
      "cell_type": "code",
      "metadata": {
        "id": "kKplH-UlCakZ",
        "outputId": "20fab822-9f0e-46ca-8262-0c0b8d1648b2",
        "colab": {
          "base_uri": "https://localhost:8080/"
        }
      },
      "source": [
        "your_shopping=240\n",
        "if your_shopping>300:\n",
        "  print(\"impressive!\")\n",
        "elif your_shopping>200:\n",
        "  print(\"Your spending is up!\")\n",
        "else:\n",
        "  print(\"quite a budget!\")"
      ],
      "execution_count": null,
      "outputs": [
        {
          "output_type": "stream",
          "text": [
            "Your spending is up!\n"
          ],
          "name": "stdout"
        }
      ]
    },
    {
      "cell_type": "code",
      "metadata": {
        "id": "Fzfr31aCDEYM",
        "outputId": "bb03b2ac-a2ac-4ba7-b7d0-8072c76f829b",
        "colab": {
          "base_uri": "https://localhost:8080/"
        }
      },
      "source": [
        "your_shopping=150\n",
        "if your_shopping>300 and your_shopping<500:\n",
        "  print(\"your life is good\")\n",
        "elif your_shopping>500 or your_shopping<300:\n",
        "  print(\"something is wrong!\")"
      ],
      "execution_count": null,
      "outputs": [
        {
          "output_type": "stream",
          "text": [
            "something is wrong!\n"
          ],
          "name": "stdout"
        }
      ]
    },
    {
      "cell_type": "code",
      "metadata": {
        "id": "UdDlNzAXEFeC"
      },
      "source": [
        ""
      ],
      "execution_count": null,
      "outputs": []
    },
    {
      "cell_type": "markdown",
      "metadata": {
        "id": "jAmXiQ-SETNG"
      },
      "source": [
        "## Looping\n",
        "\n",
        "###for \n",
        "### while (condition)\n"
      ]
    },
    {
      "cell_type": "code",
      "metadata": {
        "id": "yiYoXHaYEj3C",
        "outputId": "21a1e9b1-0c10-4994-bef0-3e96dc66a347",
        "colab": {
          "base_uri": "https://localhost:8080/"
        }
      },
      "source": [
        "number_list=[1,2,3,4,5,6,7,8,9,10]\n",
        "\n",
        "for x in number_list:\n",
        "  print(\"This is number {}\".format(x))"
      ],
      "execution_count": null,
      "outputs": [
        {
          "output_type": "stream",
          "text": [
            "This is number 1\n",
            "This is number 2\n",
            "This is number 3\n",
            "This is number 4\n",
            "This is number 5\n",
            "This is number 6\n",
            "This is number 7\n",
            "This is number 8\n",
            "This is number 9\n",
            "This is number 10\n"
          ],
          "name": "stdout"
        }
      ]
    },
    {
      "cell_type": "code",
      "metadata": {
        "id": "rIFiikNaFQcr",
        "outputId": "a8035469-c5ee-4307-e949-15abe52df5f7",
        "colab": {
          "base_uri": "https://localhost:8080/"
        }
      },
      "source": [
        "print(\"###########Table of 8#######\")\n",
        "for x in number_list:\n",
        "  print(\"{} * {} = {}\".format(8,x,8*x))"
      ],
      "execution_count": null,
      "outputs": [
        {
          "output_type": "stream",
          "text": [
            "###########Table of 8#######\n",
            "8 * 1 = 8\n",
            "8 * 2 = 16\n",
            "8 * 3 = 24\n",
            "8 * 4 = 32\n",
            "8 * 5 = 40\n",
            "8 * 6 = 48\n",
            "8 * 7 = 56\n",
            "8 * 8 = 64\n",
            "8 * 9 = 72\n",
            "8 * 10 = 80\n"
          ],
          "name": "stdout"
        }
      ]
    },
    {
      "cell_type": "code",
      "metadata": {
        "id": "200PmU3SF69x",
        "outputId": "9d1e6ab4-1a22-4296-c5e6-36ea293759b3",
        "colab": {
          "base_uri": "https://localhost:8080/"
        }
      },
      "source": [
        "#Squares\n",
        "for x in number_list:\n",
        "  print(\"{} * {} = {}\".format(x, x, x*x))"
      ],
      "execution_count": null,
      "outputs": [
        {
          "output_type": "stream",
          "text": [
            "1 * 1 = 1\n",
            "2 * 2 = 4\n",
            "3 * 3 = 9\n",
            "4 * 4 = 16\n",
            "5 * 5 = 25\n",
            "6 * 6 = 36\n",
            "7 * 7 = 49\n",
            "8 * 8 = 64\n",
            "9 * 9 = 81\n",
            "10 * 10 = 100\n"
          ],
          "name": "stdout"
        }
      ]
    },
    {
      "cell_type": "code",
      "metadata": {
        "id": "k-KXsEu0GRj6",
        "outputId": "d1a70e16-5ab1-45c9-9aa4-325f41014cb8",
        "colab": {
          "base_uri": "https://localhost:8080/"
        }
      },
      "source": [
        "#square and cube\n",
        "\n",
        "#Squares\n",
        "for x in number_list:\n",
        "  print(\"{} * {} = {} and the cube value of {} is {}\".format(x, x, x*x, x, x*x*x))"
      ],
      "execution_count": null,
      "outputs": [
        {
          "output_type": "stream",
          "text": [
            "1 * 1 = 1 and the cube value of 1 is 1\n",
            "2 * 2 = 4 and the cube value of 2 is 8\n",
            "3 * 3 = 9 and the cube value of 3 is 27\n",
            "4 * 4 = 16 and the cube value of 4 is 64\n",
            "5 * 5 = 25 and the cube value of 5 is 125\n",
            "6 * 6 = 36 and the cube value of 6 is 216\n",
            "7 * 7 = 49 and the cube value of 7 is 343\n",
            "8 * 8 = 64 and the cube value of 8 is 512\n",
            "9 * 9 = 81 and the cube value of 9 is 729\n",
            "10 * 10 = 100 and the cube value of 10 is 1000\n"
          ],
          "name": "stdout"
        }
      ]
    },
    {
      "cell_type": "code",
      "metadata": {
        "id": "AL9UT4whHJ1J",
        "outputId": "603594a0-6932-437a-857a-8dbde9f7b38a",
        "colab": {
          "base_uri": "https://localhost:8080/"
        }
      },
      "source": [
        "### While loop\n",
        "\n",
        "print(\"Table of &\")\n",
        "\n",
        "a = 1\n",
        "while a <= 10:\n",
        "  print(\"{} * {} = {}\".format(7,a,7*a))\n",
        "  a=a+1"
      ],
      "execution_count": null,
      "outputs": [
        {
          "output_type": "stream",
          "text": [
            "Table of &\n",
            "7 * 1 = 7\n",
            "7 * 2 = 14\n",
            "7 * 3 = 21\n",
            "7 * 4 = 28\n",
            "7 * 5 = 35\n",
            "7 * 6 = 42\n",
            "7 * 7 = 49\n",
            "7 * 8 = 56\n",
            "7 * 9 = 63\n",
            "7 * 10 = 70\n"
          ],
          "name": "stdout"
        }
      ]
    },
    {
      "cell_type": "code",
      "metadata": {
        "id": "BPyp0_K3I4Dx"
      },
      "source": [
        "# write a function to detect a prime number from a user-generated value\n",
        "# 2,3,5,7"
      ],
      "execution_count": null,
      "outputs": []
    },
    {
      "cell_type": "code",
      "metadata": {
        "id": "kg-606tOJ7D8",
        "outputId": "d7a91d25-3f41-4175-bb8c-96e947fd005f",
        "colab": {
          "base_uri": "https://localhost:8080/"
        }
      },
      "source": [
        "z = int(input(\"Enter a number: \"))\n",
        "if z%z == 0 and z!=1 and z>1 and z%2 !=0 and z%3 != 0:\n",
        "  print(\"{} is a prime number\".format(z))\n",
        "elif z==2 or z==3:\n",
        "  print(z, \"is a prime number\")\n",
        "else:\n",
        "  print(\"{} is not a prime number\".format(z))"
      ],
      "execution_count": null,
      "outputs": [
        {
          "output_type": "stream",
          "text": [
            "Enter a number: 300009\n",
            "300009 is not a prime number\n"
          ],
          "name": "stdout"
        }
      ]
    },
    {
      "cell_type": "code",
      "metadata": {
        "id": "KKvHF0PLOgVv",
        "outputId": "34b793f3-3c3b-4ccb-80c2-d0d24199d0b7",
        "colab": {
          "base_uri": "https://localhost:8080/"
        }
      },
      "source": [
        "check_number = int(input(\"Enter a number: \"))\n",
        "# prime number is always greater than 1\n",
        "if check_number > 1:\n",
        "    for i in range(2, check_number):\n",
        "        if (check_number % i) == 0:\n",
        "            print(check_number, \"is not a prime number\")\n",
        "            break\n",
        "    else:\n",
        "        print(check_number, \"is a prime number\")\n",
        "\n",
        "# if the entered number is less than or equal to 1\n",
        "# then it is not prime number\n",
        "else:\n",
        "    print(check_number, \"is not a prime number\")"
      ],
      "execution_count": null,
      "outputs": [
        {
          "output_type": "stream",
          "text": [
            "Enter a number: 25\n",
            "25 is not a prime number\n"
          ],
          "name": "stdout"
        }
      ]
    },
    {
      "cell_type": "code",
      "metadata": {
        "id": "ZbRRW1uDoTSM"
      },
      "source": [
        ""
      ],
      "execution_count": null,
      "outputs": []
    }
  ]
}