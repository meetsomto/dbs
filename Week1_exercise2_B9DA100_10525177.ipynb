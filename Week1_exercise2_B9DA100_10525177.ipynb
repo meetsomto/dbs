{
  "nbformat": 4,
  "nbformat_minor": 0,
  "metadata": {
    "colab": {
      "name": " Week1_exercise2_B9DA100_10525177.ipynb",
      "provenance": [],
      "collapsed_sections": [],
      "authorship_tag": "ABX9TyNuRCKhU3IgfuIi4ObtRy00",
      "include_colab_link": true
    },
    "kernelspec": {
      "name": "python3",
      "display_name": "Python 3"
    }
  },
  "cells": [
    {
      "cell_type": "markdown",
      "metadata": {
        "id": "view-in-github",
        "colab_type": "text"
      },
      "source": [
        "<a href=\"https://colab.research.google.com/github/meetsomto/dbs/blob/main/Week1_exercise2_B9DA100_10525177.ipynb\" target=\"_parent\"><img src=\"https://colab.research.google.com/assets/colab-badge.svg\" alt=\"Open In Colab\"/></a>"
      ]
    },
    {
      "cell_type": "markdown",
      "metadata": {
        "id": "975wfZt6dUdG"
      },
      "source": [
        "# B9DA100 Programming for Data Analysis, Processing and Visualisation (B9DA100_2021_TMD1S)\n",
        "\n",
        "## Week1_exercise2_10525177\n",
        "Notebook: \n",
        "https://colab.research.google.com/drive/1QD-Duso_lF5PLo-7ufkHl4tIWm4l6dVP?usp=sharing\n",
        "\n"
      ]
    },
    {
      "cell_type": "code",
      "metadata": {
        "id": "LkK2iSmBdYfS",
        "outputId": "30b82207-afb2-4162-b065-25710c99832f",
        "colab": {
          "base_uri": "https://localhost:8080/",
          "height": 68
        }
      },
      "source": [
        "# Exercise 1: Addition of two user-generated integers after incrementation of the first integer by 1\n",
        "\n",
        "value_1 = int(input(\"Enter an Integer = \"))\n",
        "\n",
        "value_2 = int(input(\"Enter another Integer! = \"))\n",
        "\n",
        "increment = value_1 + 1\n",
        "\n",
        "sum = increment + value_2\n",
        "\n",
        "print(\"Result = \" + str(sum))"
      ],
      "execution_count": 5,
      "outputs": [
        {
          "output_type": "stream",
          "text": [
            "Enter an Integer = 6\n",
            "Enter another Integer! = 4\n",
            "Result = 11\n"
          ],
          "name": "stdout"
        }
      ]
    },
    {
      "cell_type": "code",
      "metadata": {
        "id": "-Np5TAKgf1kx",
        "outputId": "787d022c-d438-4f25-ca1c-944823f32c39",
        "colab": {
          "base_uri": "https://localhost:8080/",
          "height": 34
        }
      },
      "source": [
        "# Exercise 2:\n",
        "\n",
        "final_value = ((3.5 * 4) / 2) - 2.5\n",
        "print(final_value)"
      ],
      "execution_count": 8,
      "outputs": [
        {
          "output_type": "stream",
          "text": [
            "4.5\n"
          ],
          "name": "stdout"
        }
      ]
    },
    {
      "cell_type": "code",
      "metadata": {
        "id": "-KHDGhpOmKyW",
        "outputId": "fec3da66-9a77-4d9e-c39a-5b5a08442be8",
        "colab": {
          "base_uri": "https://localhost:8080/",
          "height": 34
        }
      },
      "source": [
        "# Exercise 3: ab^2\n",
        "\n",
        "a = 3\n",
        "b = 4\n",
        "\n",
        "print(a * (b**2)) \n",
        "\n"
      ],
      "execution_count": 35,
      "outputs": [
        {
          "output_type": "stream",
          "text": [
            "48\n"
          ],
          "name": "stdout"
        }
      ]
    },
    {
      "cell_type": "code",
      "metadata": {
        "id": "kpe8IyN1nLsj",
        "outputId": "f215727b-dab4-4b62-b8cd-c34ece8728e0",
        "colab": {
          "base_uri": "https://localhost:8080/",
          "height": 119
        }
      },
      "source": [
        "# Exercise 4:\n",
        "\n",
        "a = int(input(\"Enter integer value for a: \"))\n",
        "b = int(input(\"Enter integer b: \"))\n",
        "c = int(input(\"Enter integer c: \"))\n",
        "d = int(input(\"Enter integer value for d: \"))\n",
        "r = int(input(\"Enter integer value for r: \"))\n",
        "\n",
        "solution_4 = 4 /  (3 * (r + 34)) - 9 * (a + (b * c)) + 3 + (d * (2 + a) / (a + (b * d)))\n",
        "print(solution_4)"
      ],
      "execution_count": 33,
      "outputs": [
        {
          "output_type": "stream",
          "text": [
            "Enter integer value for a: 1\n",
            "Enter integer b: 2\n",
            "Enter integer c: 3\n",
            "Enter integer value for d: 4\n",
            "Enter integer value for r: 5\n",
            "-58.63247863247863\n"
          ],
          "name": "stdout"
        }
      ]
    },
    {
      "cell_type": "code",
      "metadata": {
        "id": "0GA809m8OgBw",
        "outputId": "0d40e25c-853a-473a-f423-0bda86b6a176",
        "colab": {
          "base_uri": "https://localhost:8080/",
          "height": 34
        }
      },
      "source": [
        "# Exercise 5:\n",
        "from statistics import *\n",
        "\n",
        "mark1 = 44\n",
        "mark2 = 51\n",
        "\n",
        "print(float(mean([mark1, mark2])))"
      ],
      "execution_count": 45,
      "outputs": [
        {
          "output_type": "stream",
          "text": [
            "47.5\n"
          ],
          "name": "stdout"
        }
      ]
    },
    {
      "cell_type": "code",
      "metadata": {
        "id": "nf5DmL_jV5V9",
        "outputId": "dd3bdd2d-8d08-494e-c854-b72161a2080a",
        "colab": {
          "base_uri": "https://localhost:8080/",
          "height": 85
        }
      },
      "source": [
        "# Exercise 6:\n",
        "\n",
        "enter_time = int(input(\"Enter number of seconds: \"))\n",
        "minutes = int(enter_time / 60)\n",
        "seconds_remaining = int(enter_time % 60)\n",
        "\n",
        "print(enter_time)\n",
        "print(\"minutes: \" + str(minutes))\n",
        "print(\"seconds: \" + str(seconds_remaining))"
      ],
      "execution_count": 56,
      "outputs": [
        {
          "output_type": "stream",
          "text": [
            "Enter number of seconds: 3605\n",
            "3605\n",
            "minutes: 60\n",
            "seconds: 5\n"
          ],
          "name": "stdout"
        }
      ]
    },
    {
      "cell_type": "code",
      "metadata": {
        "id": "6ITrxuGwdlKX",
        "outputId": "5a52ed15-fd85-4ea9-d720-a7ee62ecb044",
        "colab": {
          "base_uri": "https://localhost:8080/",
          "height": 187
        }
      },
      "source": [
        "# Exercise 7\n",
        "\n",
        "def pay_slip():\n",
        "    name = str(input(\" Enter user name: \"))\n",
        "    age = int(input(\"age: \"))\n",
        "    gross_pay = float(input(\"gross pay: \"))\n",
        "    tax_rate = float(input(\"tax rate: \"))\n",
        "\n",
        "    net_pay = gross_pay - ((tax_rate / 100) * gross_pay)\n",
        "\n",
        "    print(\"\\n Name: {}\\n Age: {}\\n Gross pay: {}\\n Tax Rate: {}% \\n Net Pay: {} euro\".format(name, age, gross_pay, tax_rate, net_pay))\n",
        "\n",
        "pay_slip()\n"
      ],
      "execution_count": 70,
      "outputs": [
        {
          "output_type": "stream",
          "text": [
            " Enter user name: somto\n",
            "age: 27\n",
            "gross pay: 1000\n",
            "tax rate: 40\n",
            "\n",
            " Name: somto\n",
            " Age: 27\n",
            " Gross pay: 1000.0\n",
            " Tax Rate: 40.0% \n",
            " Net Pay: 600.0 euro\n"
          ],
          "name": "stdout"
        }
      ]
    }
  ]
}