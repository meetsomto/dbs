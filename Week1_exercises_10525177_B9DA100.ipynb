{
  "nbformat": 4,
  "nbformat_minor": 0,
  "metadata": {
    "colab": {
      "name": " Week1_exercises_10525177.ipynb",
      "provenance": [],
      "collapsed_sections": [],
      "authorship_tag": "ABX9TyNnq/xdVC75BXfOIalyoQ2e",
      "include_colab_link": true
    },
    "kernelspec": {
      "name": "python3",
      "display_name": "Python 3"
    }
  },
  "cells": [
    {
      "cell_type": "markdown",
      "metadata": {
        "id": "view-in-github",
        "colab_type": "text"
      },
      "source": [
        "<a href=\"https://colab.research.google.com/github/meetsomto/dbs/blob/main/Week1_exercises_10525177_B9DA100.ipynb\" target=\"_parent\"><img src=\"https://colab.research.google.com/assets/colab-badge.svg\" alt=\"Open In Colab\"/></a>"
      ]
    },
    {
      "cell_type": "markdown",
      "metadata": {
        "id": "qlbHrEK29Spx"
      },
      "source": [
        "  # B9DA100 Programming for Data Analysis, Processing and Visualisation (B9DA100_2021_TMD1S)\n",
        "  ## Week1_exercise1_10525177\n",
        "\n",
        "Notebook\n",
        "https://colab.research.google.com/drive/14azZaKXWggXcBghXRF3Xq35VY4FI6-ZB?usp=sharing\n",
        "\n",
        "\n"
      ]
    },
    {
      "cell_type": "code",
      "metadata": {
        "id": "l9JDM3GAAI2O",
        "outputId": "1e249738-ad93-4a78-c93b-f1ec0992ec5c",
        "colab": {
          "base_uri": "https://localhost:8080/",
          "height": 119
        }
      },
      "source": [
        "# American Flag\n",
        "asterisk = \"*\"\n",
        "multiple_asterisk = asterisk * 7\n",
        "\n",
        "hyphen = \"-\"\n",
        "multiple_hyphen = hyphen * 25\n",
        "\n",
        "asterisk_hyphen = multiple_asterisk + multiple_hyphen\n",
        "\n",
        "print(asterisk_hyphen + \"\\n\" + asterisk_hyphen + \"\\n\" + asterisk_hyphen + \"\\n\" + asterisk_hyphen)\n",
        "\n",
        "print(multiple_hyphen + (hyphen * 7) + \"\\n\" + multiple_hyphen + (hyphen * 7))\n",
        "\n",
        "\n",
        "\n",
        "\n"
      ],
      "execution_count": 49,
      "outputs": [
        {
          "output_type": "stream",
          "text": [
            "*******-------------------------\n",
            "*******-------------------------\n",
            "*******-------------------------\n",
            "*******-------------------------\n",
            "--------------------------------\n",
            "--------------------------------\n"
          ],
          "name": "stdout"
        }
      ]
    },
    {
      "cell_type": "code",
      "metadata": {
        "id": "ZmaX5U8lFhIS",
        "outputId": "e7066f9f-ec96-4807-f5fd-b04de3f5581d",
        "colab": {
          "base_uri": "https://localhost:8080/",
          "height": 119
        }
      },
      "source": [
        "# Christmas Tree\n",
        "\n",
        "start = 0\n",
        "stop = 5\n",
        "\n",
        "while start <= 5:\n",
        " print((stop * ' ') + start *'* ')\n",
        "\n",
        " stop = stop - 1\n",
        " start = start + 1\n"
      ],
      "execution_count": 50,
      "outputs": [
        {
          "output_type": "stream",
          "text": [
            "     \n",
            "    * \n",
            "   * * \n",
            "  * * * \n",
            " * * * * \n",
            "* * * * * \n"
          ],
          "name": "stdout"
        }
      ]
    },
    {
      "cell_type": "code",
      "metadata": {
        "id": "cOLTE2a1Kk0v",
        "outputId": "0390ff99-9c3e-492a-e04f-284f500fa90d",
        "colab": {
          "base_uri": "https://localhost:8080/",
          "height": 102
        }
      },
      "source": [
        "# Figure\n",
        "\n",
        "pipe = \"  |\"\n",
        "\n",
        "print(\"(^;^)\")\n",
        "\n",
        "print(pipe)\n",
        "\n",
        "print(\"./|\\.\")\n",
        "\n",
        "print(pipe)\n",
        "\n",
        "print(\"_/\\_\")\n",
        "\n",
        "\n",
        "\n",
        "\n"
      ],
      "execution_count": 57,
      "outputs": [
        {
          "output_type": "stream",
          "text": [
            "(^;^)\n",
            "  |\n",
            "./|\\.\n",
            "  |\n",
            "_/\\_\n"
          ],
          "name": "stdout"
        }
      ]
    },
    {
      "cell_type": "code",
      "metadata": {
        "id": "hlAu8wZ_NmgG",
        "outputId": "18b4580d-5c74-47ec-9a01-dab1c7b218b3",
        "colab": {
          "base_uri": "https://localhost:8080/",
          "height": 34
        }
      },
      "source": [
        "# Addition\n",
        "\n",
        "num1 = 10\n",
        "num2 = 4\n",
        "\n",
        "sum = num1 + num2\n",
        "\n",
        "print(sum)"
      ],
      "execution_count": 58,
      "outputs": [
        {
          "output_type": "stream",
          "text": [
            "14\n"
          ],
          "name": "stdout"
        }
      ]
    },
    {
      "cell_type": "code",
      "metadata": {
        "id": "HuLlAoIiPzIq",
        "outputId": "9d5424d8-49bc-4524-d22d-29fd0768e4e1",
        "colab": {
          "base_uri": "https://localhost:8080/",
          "height": 51
        }
      },
      "source": [
        "# Accept User input and increment by 1\n",
        "\n",
        "user_value = int(input(\"Enter an Integer!, Value = \"))\n",
        "\n",
        "increment = user_value + 1\n",
        "\n",
        "print(\"Your final value = \" + str(increment))\n",
        "\n"
      ],
      "execution_count": 63,
      "outputs": [
        {
          "output_type": "stream",
          "text": [
            "Enter an Integer!, Value = 1\n",
            "Your final value = 2\n"
          ],
          "name": "stdout"
        }
      ]
    },
    {
      "cell_type": "code",
      "metadata": {
        "id": "px72fygzXlsW",
        "outputId": "b61323e0-da95-4f49-d1ea-226b439d0ce6",
        "colab": {
          "base_uri": "https://localhost:8080/",
          "height": 68
        }
      },
      "source": [
        "# Addition result of two user-generated values\n",
        "\n",
        "num1 = int(input(\"Enter an Integer!, Value1 = \"))\n",
        "\n",
        "num2 = int(input(\"Enter an Integer!, Value2 = \"))\n",
        "\n",
        "sum = num1 + num2\n",
        "\n",
        "print(\"Output of the addition = \" + str(sum))"
      ],
      "execution_count": 65,
      "outputs": [
        {
          "output_type": "stream",
          "text": [
            "Enter an Integer!, Value1 = 5\n",
            "Enter an Integer!, Value2 = 5\n",
            "Output of the addition = 10\n"
          ],
          "name": "stdout"
        }
      ]
    },
    {
      "cell_type": "code",
      "metadata": {
        "id": "U0KYcPYFSYfJ",
        "outputId": "372a834c-2739-4068-aa3a-53043028afa0",
        "colab": {
          "base_uri": "https://localhost:8080/",
          "height": 68
        }
      },
      "source": [
        "# Division result of two user-generated values\n",
        "\n",
        "num1 = int(input(\"Enter an Integer!, Value1 = \"))\n",
        "\n",
        "num2 = int(input(\"Enter an Integer!, Value2 = \"))\n",
        "\n",
        "division = num1 / num2\n",
        "\n",
        "print(\"Output of the division = \" + str(division))"
      ],
      "execution_count": 64,
      "outputs": [
        {
          "output_type": "stream",
          "text": [
            "Enter an Integer!, Value1 = 4\n",
            "Enter an Integer!, Value2 = 2\n",
            "Output of the division = 2.0\n"
          ],
          "name": "stdout"
        }
      ]
    }
  ]
}