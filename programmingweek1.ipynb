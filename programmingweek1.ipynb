{
  "nbformat": 4,
  "nbformat_minor": 0,
  "metadata": {
    "colab": {
      "name": "programmingweek1.ipynb",
      "provenance": [],
      "authorship_tag": "ABX9TyPOHsCUaIFZbXn2+ow7s9Le",
      "include_colab_link": true
    },
    "kernelspec": {
      "name": "python3",
      "display_name": "Python 3"
    }
  },
  "cells": [
    {
      "cell_type": "markdown",
      "metadata": {
        "id": "view-in-github",
        "colab_type": "text"
      },
      "source": [
        "<a href=\"https://colab.research.google.com/github/meetsomto/dbs/blob/main/programmingweek1.ipynb\" target=\"_parent\"><img src=\"https://colab.research.google.com/assets/colab-badge.svg\" alt=\"Open In Colab\"/></a>"
      ]
    },
    {
      "cell_type": "markdown",
      "metadata": {
        "id": "QMT4za5mmGrA"
      },
      "source": [
        "# Variables\n",
        "\n",
        "Containers, Save Space, Save Reference of Value\n"
      ]
    },
    {
      "cell_type": "code",
      "metadata": {
        "id": "YTuB61AOmV6r",
        "outputId": "b1f9ef05-4d41-4f82-8551-be17c7387f2e",
        "colab": {
          "base_uri": "https://localhost:8080/",
          "height": 51
        }
      },
      "source": [
        "var1 = 5\n",
        "var2 = 6\n",
        "var3 = \"Hello\"\n",
        "var4 = 5.6\n",
        "\n",
        "Sum1 = var1 + var2\n",
        "Diff = var1 - var2\n",
        "\n",
        "print(Sum1)\n",
        "print(Diff)\n",
        "\n"
      ],
      "execution_count": null,
      "outputs": [
        {
          "output_type": "stream",
          "text": [
            "11\n",
            "-1\n"
          ],
          "name": "stdout"
        }
      ]
    },
    {
      "cell_type": "code",
      "metadata": {
        "id": "aYwKvaMZnAUj",
        "outputId": "2ff25965-aa24-4efe-c843-11585c28b746",
        "colab": {
          "base_uri": "https://localhost:8080/",
          "height": 34
        }
      },
      "source": [
        "print(var3 * 5)"
      ],
      "execution_count": null,
      "outputs": [
        {
          "output_type": "stream",
          "text": [
            "HelloHelloHelloHelloHello\n"
          ],
          "name": "stdout"
        }
      ]
    },
    {
      "cell_type": "code",
      "metadata": {
        "id": "SnkgoPBCoB1n",
        "outputId": "aae4dfba-101c-4e1c-a112-7b3ae8e55826",
        "colab": {
          "base_uri": "https://localhost:8080/",
          "height": 34
        }
      },
      "source": [
        "print(var4 + 9)"
      ],
      "execution_count": null,
      "outputs": [
        {
          "output_type": "stream",
          "text": [
            "14.6\n"
          ],
          "name": "stdout"
        }
      ]
    },
    {
      "cell_type": "code",
      "metadata": {
        "id": "3hdAPzWhoGmJ",
        "outputId": "7a66516e-78e7-482f-a678-90991b571446",
        "colab": {
          "base_uri": "https://localhost:8080/",
          "height": 34
        }
      },
      "source": [
        "var6 = \"shek\"\n",
        "fullname = var3 + var6\n",
        "print(fullname)"
      ],
      "execution_count": null,
      "outputs": [
        {
          "output_type": "stream",
          "text": [
            "Helloshek\n"
          ],
          "name": "stdout"
        }
      ]
    },
    {
      "cell_type": "code",
      "metadata": {
        "id": "ou3jdUazokH8",
        "outputId": "181c3c35-2d5b-403d-fa66-e3d537afaa0e",
        "colab": {
          "base_uri": "https://localhost:8080/",
          "height": 34
        }
      },
      "source": [
        "## Slicing\n",
        "\n",
        "short_name = fullname[0:5]\n",
        "print(short_name)"
      ],
      "execution_count": null,
      "outputs": [
        {
          "output_type": "stream",
          "text": [
            "Hello\n"
          ],
          "name": "stdout"
        }
      ]
    },
    {
      "cell_type": "code",
      "metadata": {
        "id": "wzuBisRlr0qj"
      },
      "source": [
        ""
      ],
      "execution_count": null,
      "outputs": []
    }
  ]
}