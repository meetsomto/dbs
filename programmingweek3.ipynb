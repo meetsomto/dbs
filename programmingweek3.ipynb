{
  "nbformat": 4,
  "nbformat_minor": 0,
  "metadata": {
    "colab": {
      "name": "programmingweek3.ipynb",
      "provenance": [],
      "toc_visible": true,
      "authorship_tag": "ABX9TyNrZVpIpY3mSKFrO5unrWwC",
      "include_colab_link": true
    },
    "kernelspec": {
      "name": "python3",
      "display_name": "Python 3"
    }
  },
  "cells": [
    {
      "cell_type": "markdown",
      "metadata": {
        "id": "view-in-github",
        "colab_type": "text"
      },
      "source": [
        "<a href=\"https://colab.research.google.com/github/meetsomto/dbs/blob/main/programmingweek3.ipynb\" target=\"_parent\"><img src=\"https://colab.research.google.com/assets/colab-badge.svg\" alt=\"Open In Colab\"/></a>"
      ]
    },
    {
      "cell_type": "markdown",
      "metadata": {
        "id": "TyxGBqdOTKUX"
      },
      "source": [
        "# Functions contd"
      ]
    },
    {
      "cell_type": "code",
      "metadata": {
        "id": "nb_eTEbgTQPj"
      },
      "source": [
        "#Definition\n",
        "def fadd(a, b):\n",
        "  c = a+b\n",
        "  print(c)\n",
        "\n",
        "# Calling\n",
        "fadd(2, 3)\n",
        "\n"
      ],
      "execution_count": 7,
      "outputs": []
    },
    {
      "cell_type": "code",
      "metadata": {
        "id": "QtUleCSPUnJ3",
        "outputId": "ab398f5d-d79a-4ad3-eb6e-5d987d4b3e65",
        "colab": {
          "base_uri": "https://localhost:8080/"
        }
      },
      "source": [
        "A = [5,6,7]\n",
        "print(sum(A))"
      ],
      "execution_count": 8,
      "outputs": [
        {
          "output_type": "stream",
          "text": [
            "18\n"
          ],
          "name": "stdout"
        }
      ]
    },
    {
      "cell_type": "code",
      "metadata": {
        "id": "ZDfv7fNFVLzn"
      },
      "source": [
        "def sum_three(A,B,C):\n",
        "  total=A+B+C\n",
        "  print(\"The sum is {}\".format(total)) "
      ],
      "execution_count": 9,
      "outputs": []
    },
    {
      "cell_type": "code",
      "metadata": {
        "id": "HrtCtAIGVlxJ",
        "outputId": "4252da8a-7ab1-402a-b387-bbb066343c21",
        "colab": {
          "base_uri": "https://localhost:8080/"
        }
      },
      "source": [
        "sum_three(300,400,500)"
      ],
      "execution_count": 10,
      "outputs": [
        {
          "output_type": "stream",
          "text": [
            "The sum is 1200\n"
          ],
          "name": "stdout"
        }
      ]
    },
    {
      "cell_type": "markdown",
      "metadata": {
        "id": "rF0PsYMvYBD7"
      },
      "source": [
        "## Lambda\n",
        "\n",
        "### variable_name = lamba formal_parameters : operations"
      ]
    },
    {
      "cell_type": "code",
      "metadata": {
        "id": "DF2b6gRhYQyg"
      },
      "source": [
        "sum1 = lambda a,b,c:a+b+c"
      ],
      "execution_count": 22,
      "outputs": []
    },
    {
      "cell_type": "code",
      "metadata": {
        "id": "Cppy3RvzYdrn",
        "outputId": "c555b052-7d88-4c66-ed10-62a04dc3521f",
        "colab": {
          "base_uri": "https://localhost:8080/"
        }
      },
      "source": [
        "sum1(5,6,7)"
      ],
      "execution_count": 23,
      "outputs": [
        {
          "output_type": "execute_result",
          "data": {
            "text/plain": [
              "18"
            ]
          },
          "metadata": {
            "tags": []
          },
          "execution_count": 23
        }
      ]
    },
    {
      "cell_type": "code",
      "metadata": {
        "id": "bueVt-f2Yf8E",
        "outputId": "f993e671-e99e-4875-a716-667e049f7c0a",
        "colab": {
          "base_uri": "https://localhost:8080/"
        }
      },
      "source": [
        "# for loop\n",
        "\n",
        "A = [5,6,7,8,9]\n",
        "\n",
        "for x in A:\n",
        "  print(x)"
      ],
      "execution_count": 24,
      "outputs": [
        {
          "output_type": "stream",
          "text": [
            "5\n",
            "6\n",
            "7\n",
            "8\n",
            "9\n"
          ],
          "name": "stdout"
        }
      ]
    },
    {
      "cell_type": "code",
      "metadata": {
        "id": "U9CpaOWlY85x",
        "outputId": "f6b9b423-4468-408a-dc77-e9f98dad5f36",
        "colab": {
          "base_uri": "https://localhost:8080/"
        }
      },
      "source": [
        "for x in range(0,5):\n",
        "  print(x)"
      ],
      "execution_count": 26,
      "outputs": [
        {
          "output_type": "stream",
          "text": [
            "0\n",
            "1\n",
            "2\n",
            "3\n",
            "4\n"
          ],
          "name": "stdout"
        }
      ]
    },
    {
      "cell_type": "code",
      "metadata": {
        "id": "fRQwQZJaZA59",
        "outputId": "3ea5f7ba-bf9e-4141-81fb-191ba687e4e7",
        "colab": {
          "base_uri": "https://localhost:8080/"
        }
      },
      "source": [
        "for x in range(0,5,2):\n",
        "  print(x)"
      ],
      "execution_count": 28,
      "outputs": [
        {
          "output_type": "stream",
          "text": [
            "0\n",
            "2\n",
            "4\n"
          ],
          "name": "stdout"
        }
      ]
    },
    {
      "cell_type": "markdown",
      "metadata": {
        "id": "Gh0oXjRvZ7kB"
      },
      "source": [
        "## Fibonacci Sequence"
      ]
    },
    {
      "cell_type": "code",
      "metadata": {
        "id": "Cde60RDhaHAe",
        "outputId": "ba29adbb-a43a-48e0-b96c-dafabd6689d0",
        "colab": {
          "base_uri": "https://localhost:8080/"
        }
      },
      "source": [
        "a=0\n",
        "b=1\n",
        "print(a)\n",
        "print(b)\n",
        "\n",
        "for x in range(0, 20):\n",
        "  print(a+b)\n",
        "  sum2 = a+b\n",
        "  a=b\n",
        "  b=sum2"
      ],
      "execution_count": 31,
      "outputs": [
        {
          "output_type": "stream",
          "text": [
            "0\n",
            "1\n",
            "1\n",
            "2\n",
            "3\n",
            "5\n",
            "8\n",
            "13\n",
            "21\n",
            "34\n",
            "55\n",
            "89\n",
            "144\n",
            "233\n",
            "377\n",
            "610\n",
            "987\n",
            "1597\n",
            "2584\n",
            "4181\n",
            "6765\n",
            "10946\n"
          ],
          "name": "stdout"
        }
      ]
    },
    {
      "cell_type": "code",
      "metadata": {
        "id": "ce72U0LccsZE",
        "outputId": "eab8f5c4-6350-4690-e78b-0648b9e832d1",
        "colab": {
          "base_uri": "https://localhost:8080/"
        }
      },
      "source": [
        "a=0\n",
        "b=1\n",
        "count=0\n",
        "\n",
        "print(a)\n",
        "print(b)\n",
        "\n",
        "while count<8:\n",
        "  sumfib=a+b\n",
        "  print(sumfib)\n",
        "  a=b\n",
        "  b=sumfib\n",
        "  count=count+1"
      ],
      "execution_count": 37,
      "outputs": [
        {
          "output_type": "stream",
          "text": [
            "0\n",
            "1\n",
            "1\n",
            "2\n",
            "3\n",
            "5\n",
            "8\n",
            "13\n",
            "21\n",
            "34\n"
          ],
          "name": "stdout"
        }
      ]
    },
    {
      "cell_type": "code",
      "metadata": {
        "id": "f-f88RQGdLlE"
      },
      "source": [
        ""
      ],
      "execution_count": null,
      "outputs": []
    },
    {
      "cell_type": "code",
      "metadata": {
        "id": "sgVPo3aDaksl"
      },
      "source": [
        "def tax(tax_rate, income):\n",
        "  netpay = income - (tax_rate * income )\n",
        "  print(\"Your annual netpay is {} euros\".format(netpay))"
      ],
      "execution_count": 40,
      "outputs": []
    },
    {
      "cell_type": "code",
      "metadata": {
        "id": "PBB0CVHmcXsV",
        "outputId": "7298c67b-8b89-4abb-edc4-a321dffd0470",
        "colab": {
          "base_uri": "https://localhost:8080/"
        }
      },
      "source": [
        "tax(0.4,30000)"
      ],
      "execution_count": 41,
      "outputs": [
        {
          "output_type": "stream",
          "text": [
            "Your annual netpay is 18000.0 euros\n"
          ],
          "name": "stdout"
        }
      ]
    },
    {
      "cell_type": "code",
      "metadata": {
        "id": "rxuZJIWgcbMK"
      },
      "source": [
        ""
      ],
      "execution_count": null,
      "outputs": []
    },
    {
      "cell_type": "markdown",
      "metadata": {
        "id": "klOq3kybeJvJ"
      },
      "source": [
        " ## File I/O\n",
        " ### For write\n",
        " with open (file_name, \"w\") as object_name:\n",
        "object_name.write(\"Content to be written into a file\")\n",
        "\n",
        "### to write a duplicate file of same name \"a\", to read \"r\""
      ]
    },
    {
      "cell_type": "code",
      "metadata": {
        "id": "xD0IV12geP4D"
      },
      "source": [
        "#write\n",
        "with open(\"intro.txt\", \"w\") as f:\n",
        "  f.write(\"Lorem Ipsum is simply dummy text of the printing and typesetting industry.\\n Lorem Ipsum has been the industry's standard dummy text ever since the 1500s, when an unknown printer took a galley of type and scrambled it to make a type specimen book. \")"
      ],
      "execution_count": 47,
      "outputs": []
    },
    {
      "cell_type": "code",
      "metadata": {
        "id": "SvdJlkfrfvow",
        "outputId": "d6817f55-5da8-44d9-c9af-1c7d6db7fddc",
        "colab": {
          "base_uri": "https://localhost:8080/"
        }
      },
      "source": [
        "#read\n",
        "with open(\"intro.txt\", \"r\") as f:\n",
        "  data = f.read()\n",
        "  print(data)\n",
        "\n",
        "  #with command closes the file handler after reading"
      ],
      "execution_count": 53,
      "outputs": [
        {
          "output_type": "stream",
          "text": [
            "Lorem Ipsum is simply dummy text of the printing and typesetting industry.\n",
            " Lorem Ipsum has been the industry's standard dummy text ever since the 1500s, when an unknown printer took a galley of type and scrambled it to make a type specimen book. \n"
          ],
          "name": "stdout"
        }
      ]
    },
    {
      "cell_type": "code",
      "metadata": {
        "id": "G0wQudIkhFZt",
        "outputId": "f392be7d-cfd1-4c8f-e36f-dc0e4a3e956d",
        "colab": {
          "base_uri": "https://localhost:8080/"
        }
      },
      "source": [
        "f = open(\"intro.txt\", \"r\")\n",
        "print(f.read())\n",
        "f.close() #must be utilized inorder to close file handler and free temp memory"
      ],
      "execution_count": 54,
      "outputs": [
        {
          "output_type": "stream",
          "text": [
            "Lorem Ipsum is simply dummy text of the printing and typesetting industry.\n",
            " Lorem Ipsum has been the industry's standard dummy text ever since the 1500s, when an unknown printer took a galley of type and scrambled it to make a type specimen book. \n"
          ],
          "name": "stdout"
        }
      ]
    },
    {
      "cell_type": "code",
      "metadata": {
        "id": "xRSPpxu5hhHs"
      },
      "source": [
        "### read\n",
        "### readlines()\n",
        "### readline()"
      ],
      "execution_count": 55,
      "outputs": []
    },
    {
      "cell_type": "code",
      "metadata": {
        "id": "DIkJsq07jVUm",
        "outputId": "c8d82d5f-9a3e-4756-f12c-f17ae29530d8",
        "colab": {
          "base_uri": "https://localhost:8080/"
        }
      },
      "source": [
        "with open(\"intro.txt\", \"r\") as f:\n",
        "  data=f.readlines()\n",
        "  print(data)"
      ],
      "execution_count": 57,
      "outputs": [
        {
          "output_type": "stream",
          "text": [
            "['Lorem Ipsum is simply dummy text of the printing and typesetting industry.\\n', \" Lorem Ipsum has been the industry's standard dummy text ever since the 1500s, when an unknown printer took a galley of type and scrambled it to make a type specimen book. \"]\n"
          ],
          "name": "stdout"
        }
      ]
    },
    {
      "cell_type": "code",
      "metadata": {
        "id": "SM_3ri2Xjtit",
        "outputId": "4b71db59-3633-4d10-9eec-6197044e45ca",
        "colab": {
          "base_uri": "https://localhost:8080/"
        }
      },
      "source": [
        "with open(\"intro.txt\", \"r\") as f:\n",
        "  data=f.readline()\n",
        "  print(data[0:21])"
      ],
      "execution_count": 61,
      "outputs": [
        {
          "output_type": "stream",
          "text": [
            "Lorem Ipsum is simply\n"
          ],
          "name": "stdout"
        }
      ]
    },
    {
      "cell_type": "code",
      "metadata": {
        "id": "jx7X5oU5j5Go",
        "outputId": "060fd1b1-08fb-4785-a24c-e1c3be6fa06c",
        "colab": {
          "base_uri": "https://localhost:8080/"
        }
      },
      "source": [
        "with open(\"intro.txt\", \"r\") as f:\n",
        "  for x in f.readlines():\n",
        "    print(x)"
      ],
      "execution_count": 64,
      "outputs": [
        {
          "output_type": "stream",
          "text": [
            "Lorem Ipsum is simply dummy text of the printing and typesetting industry.\n",
            "\n",
            " Lorem Ipsum has been the industry's standard dummy text ever since the 1500s, when an unknown printer took a galley of type and scrambled it to make a type specimen book. \n"
          ],
          "name": "stdout"
        }
      ]
    },
    {
      "cell_type": "code",
      "metadata": {
        "id": "skaQo4kSkKsH",
        "outputId": "cfc37ced-be0d-4c79-b64d-baccb46de5d2",
        "colab": {
          "base_uri": "https://localhost:8080/"
        }
      },
      "source": [
        "with open(\"intro.txt\", \"r\") as f:\n",
        "  for x in f.readline():\n",
        "    print(x)"
      ],
      "execution_count": 71,
      "outputs": [
        {
          "output_type": "stream",
          "text": [
            "L\n",
            "o\n",
            "r\n",
            "e\n",
            "m\n",
            " \n",
            "I\n",
            "p\n",
            "s\n",
            "u\n",
            "m\n",
            " \n",
            "i\n",
            "s\n",
            " \n",
            "s\n",
            "i\n",
            "m\n",
            "p\n",
            "l\n",
            "y\n",
            " \n",
            "d\n",
            "u\n",
            "m\n",
            "m\n",
            "y\n",
            " \n",
            "t\n",
            "e\n",
            "x\n",
            "t\n",
            " \n",
            "o\n",
            "f\n",
            " \n",
            "t\n",
            "h\n",
            "e\n",
            " \n",
            "p\n",
            "r\n",
            "i\n",
            "n\n",
            "t\n",
            "i\n",
            "n\n",
            "g\n",
            " \n",
            "a\n",
            "n\n",
            "d\n",
            " \n",
            "t\n",
            "y\n",
            "p\n",
            "e\n",
            "s\n",
            "e\n",
            "t\n",
            "t\n",
            "i\n",
            "n\n",
            "g\n",
            " \n",
            "i\n",
            "n\n",
            "d\n",
            "u\n",
            "s\n",
            "t\n",
            "r\n",
            "y\n",
            ".\n",
            "\n",
            "\n"
          ],
          "name": "stdout"
        }
      ]
    },
    {
      "cell_type": "code",
      "metadata": {
        "id": "2vXoDad9klVR"
      },
      "source": [
        ""
      ],
      "execution_count": 72,
      "outputs": []
    },
    {
      "cell_type": "markdown",
      "metadata": {
        "id": "vmn2XeeBladl"
      },
      "source": [
        "\n",
        "## Function for biography text write op, limited to 20 lines or 100 words and indicating extra lines left"
      ]
    },
    {
      "cell_type": "code",
      "metadata": {
        "id": "piP2QDI4nTYW",
        "outputId": "9554fb5e-f63d-452e-cdd9-5fe3415a3732",
        "colab": {
          "base_uri": "https://localhost:8080/"
        }
      },
      "source": [
        "test = input(\"Enter about bio: \")\n",
        "length = len(test.split(\" \"))\n",
        "# print(length)\n",
        "\n",
        "length_difference=100-length\n",
        "\n",
        "if length_difference == 0:\n",
        "  with open(\"biography.txt\", \"w+\") as f:\n",
        "    f.write(test)\n",
        "elif length_difference > 0:\n",
        "    print(\"\\n{} words less than 100 word limit\".format(length_difference))\n",
        "else:\n",
        "    print (\"\\n{} words over the 100 word limit\".format(abs(length_difference)))"
      ],
      "execution_count": 84,
      "outputs": [
        {
          "output_type": "stream",
          "text": [
            "Enter about bio: Lorem ipsum dolor sit amet, consectetur adipiscing elit. Donec id consequat massa. Maecenas consequat molestie placerat. Etiam et suscipit odio, vitae viverra nisi. Curabitur pellentesque eget nisl dignissim scelerisque. Proin rutrum metus a malesuada dapibus. Duis lobortis nisl nulla, sit amet malesuada lorem finibus a. Donec nec imperdiet est. In rhoncus dolor sit amet lectus congue congue. Fusce eu consectetur lacus, quis varius nunc. Donec congue eleifend elementum. Duis pharetra libero at ultrices scelerisque. Quisque malesuada eu est in molestie. Aenean non eros ac magna congue semper vel at dolor. Aliquam semper mollis orci, consequat egestas arcu dapibus eu. Nam in finibus nisl. Phasellus vehicula ligula nec sodales interdum. Class.\n",
            "\n",
            "10 words over the 100 word limit\n"
          ],
          "name": "stdout"
        }
      ]
    },
    {
      "cell_type": "code",
      "metadata": {
        "id": "GWj23M-Apf4N"
      },
      "source": [
        ""
      ],
      "execution_count": null,
      "outputs": []
    }
  ]
}