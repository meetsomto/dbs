{
  "nbformat": 4,
  "nbformat_minor": 0,
  "metadata": {
    "colab": {
      "name": "programmingCA1.ipynb",
      "provenance": [],
      "authorship_tag": "ABX9TyOovLaUhpB/moWcvJBJcxUH",
      "include_colab_link": true
    },
    "kernelspec": {
      "name": "python3",
      "display_name": "Python 3"
    }
  },
  "cells": [
    {
      "cell_type": "markdown",
      "metadata": {
        "id": "view-in-github",
        "colab_type": "text"
      },
      "source": [
        "<a href=\"https://colab.research.google.com/github/meetsomto/dbs/blob/main/programmingCA1.ipynb\" target=\"_parent\"><img src=\"https://colab.research.google.com/assets/colab-badge.svg\" alt=\"Open In Colab\"/></a>"
      ]
    },
    {
      "cell_type": "markdown",
      "metadata": {
        "id": "P63wcNPOThFX"
      },
      "source": [
        ""
      ]
    },
    {
      "cell_type": "markdown",
      "metadata": {
        "id": "skImZ3ZRTafG"
      },
      "source": [
        "# 1. Pay Slip"
      ]
    },
    {
      "cell_type": "code",
      "metadata": {
        "colab": {
          "base_uri": "https://localhost:8080/"
        },
        "id": "-Iv5Xs7_TtbD",
        "outputId": "fa46a9c1-776b-4ace-d24b-439cd18f1802"
      },
      "source": [
        "def payslip():\n",
        "\n",
        "  # Known variables\n",
        "  # Initialize number of hours for a standard working week\n",
        "  standardWorkingWeek = 37.5\n",
        "\n",
        "  #Read User Data\n",
        "  employeeName = input(\"Enter Employee Name: \")\n",
        "  employeeNumber = input(\"Enter Employee ID: \")\n",
        "  weekEnding = input(\"Enter the end date of Payslip week DD/MM/YYYY: \")\n",
        "  hoursWorked = float(input(\"Enter number of hours worked for the week: \"))\n",
        "  hourlyRate = float(input(\"Enter hourly payrate: \"))\n",
        "  overtimeRate = float(input(\"Enter overtime rate of hourly pay e.g '1.5': \"))\n",
        "  standardTaxRate = float(input(\"Enter standard tax rate in %: \"))\n",
        "  overtimeTaxRate = float(input(\"Enter Overtime Tax Rate in %: \"))\n",
        "\n",
        "  def computePay():\n",
        "   \n",
        "    # Calculate normalHours, grossPay, tax deducted and net pay for work hours \n",
        "    # with NO overtime\n",
        "    if (hoursWorked - standardWorkingWeek) <= 0:\n",
        "      normalHours = hoursWorked\n",
        "      overtimeHours = 0\n",
        "      overtimeGrossPay = 0\n",
        "      overtimeTax = 0\n",
        "\n",
        "      grossPay = normalHours * hourlyRate\n",
        "      standardPay = grossPay\n",
        "\n",
        "      standardTax = grossPay * (standardTaxRate/100)\n",
        "      taxDeducted = standardTax\n",
        "      netPay = grossPay - taxDeducted\n",
        "\n",
        "    \n",
        "    # Calculate normalHours, grossPay, tax deducted and net pay for work hours \n",
        "    # with OVERTIME\n",
        "    elif (hoursWorked - standardWorkingWeek) > 0:\n",
        "      overtimeHours = hoursWorked - standardWorkingWeek\n",
        "      normalHours = hoursWorked - overtimeHours\n",
        "      \n",
        "\n",
        "      standardPay = normalHours * hourlyRate\n",
        "      overtimeGrossPay = overtimeHours * (hourlyRate * overtimeRate)\n",
        "      grossPay = standardPay + overtimeGrossPay\n",
        "\n",
        "      #Calculate tax deducted for standard  hours and overtime hours\n",
        "      standardTax = standardPay * (standardTaxRate/100)\n",
        "      overtimeTax = overtimeGrossPay * (overtimeTaxRate/100)\n",
        "      #print(\"Overtime Tax: {} euro\".format(overtimeTax))\n",
        "      taxDeducted = standardTax + overtimeTax\n",
        "      netPay = grossPay - taxDeducted\n",
        "      \n",
        "    return overtimeHours, normalHours, standardPay, grossPay, overtimeGrossPay, standardTaxRate, overtimeTaxRate, overtimeTax, standardTax, taxDeducted, netPay\n",
        "\n",
        "\n",
        "  def displaySlip():\n",
        "    overtimeHours, normalHours, standardPay, grossPay, overtimeGrossPay, standardTaxRate, overtimeTaxRate, overtimeTax, standardTax, taxDeducted, netPay = computePay()\n",
        "\n",
        "    print(\"\\n \\n \\t \\t \\t \\t PAYSLIP \\n\")\n",
        "    print(\"WEEK ENDING {} \\nEmployee: {} \\nEmployee Number: {} \\n\"\n",
        "    .format(weekEnding, employeeName, employeeNumber))\n",
        "\n",
        "    print(\"\\t \\t Earnings \\t \\t \\t \\t Deductions\")\n",
        "    print(\"\\t \\t Hours \\t Rate(€) \\t Total(€)\")\n",
        "    \n",
        "    print(\"Hours (normal) \\t {:.2f} \\t {:.2f} \\t \\t {:.2f} \\t Tax @ {}% \\t {:.2f} euro\"\n",
        "    .format(normalHours, hourlyRate, standardPay, standardTaxRate, standardTax))\n",
        "\n",
        "    print(\"Hours (overtime) {:.2f} \\t {:.2f} \\t \\t {:.2f} \\t \\t Tax @ {}% \\t {:.2f} euro\"\n",
        "    .format(overtimeHours, overtimeRate*hourlyRate, overtimeGrossPay, overtimeTaxRate, overtimeTax))\n",
        "\n",
        "    print(\"\\n \\t \\t Total pay: €{:.2f}\".format(grossPay))\n",
        "    print(\"\\t \\t Total deductions: €{:.2f}\".format(taxDeducted))\n",
        "    print(\"\\t \\t Net pay: €{:.2f}\".format(netPay))\n",
        "\n",
        "\n",
        "  computePay()\n",
        "  displaySlip()\n",
        "\n",
        "payslip()\n"
      ],
      "execution_count": 85,
      "outputs": [
        {
          "output_type": "stream",
          "text": [
            "Enter Employee Name: Mark Below\n",
            "Enter Employee ID: 2010lower\n",
            "Enter the end date of Payslip week DD/MM/YYYY: 20/09/2020\n",
            "Enter number of hours worked for the week: 20\n",
            "Enter hourly payrate: 11\n",
            "Enter overtime rate of hourly pay e.g '1.5': 1.5\n",
            "Enter standard tax rate in %: 20\n",
            "Enter Overtime Tax Rate in %: 50\n",
            "\n",
            " \n",
            " \t \t \t \t PAYSLIP \n",
            "\n",
            "WEEK ENDING 20/09/2020 \n",
            "Employee: Mark Below \n",
            "Employee Number: 2010lower \n",
            "\n",
            "\t \t Earnings \t \t \t \t Deductions\n",
            "\t \t Hours \t Rate(€) \t Total(€)\n",
            "Hours (normal) \t 20.00 \t 11.00 \t \t 220.00 \t Tax @ 20.0% \t 44.00 euro\n",
            "Hours (overtime) 0.00 \t 16.50 \t \t 0.00 \t \t Tax @ 50.0% \t 0.00 euro\n",
            "\n",
            " \t \t Total pay: €220.00\n",
            "\t \t Total deductions: €44.00\n",
            "\t \t Net pay: €176.00\n"
          ],
          "name": "stdout"
        }
      ]
    },
    {
      "cell_type": "code",
      "metadata": {
        "colab": {
          "base_uri": "https://localhost:8080/"
        },
        "id": "hfHs4o_JUWZt",
        "outputId": "abecd1a0-3cde-463c-97a7-12e1257869ea"
      },
      "source": [
        "#Sample payslip with overtime\n",
        "payslip()"
      ],
      "execution_count": 88,
      "outputs": [
        {
          "output_type": "stream",
          "text": [
            "Enter Employee Name: Mark Higher\n",
            "Enter Employee ID: 2020higher\n",
            "Enter the end date of Payslip week DD/MM/YYYY: 15/12/2020\n",
            "Enter number of hours worked for the week: 40\n",
            "Enter hourly payrate: 11\n",
            "Enter overtime rate of hourly pay e.g '1.5': 1.5\n",
            "Enter standard tax rate in %: 20\n",
            "Enter Overtime Tax Rate in %: 50\n",
            "\n",
            " \n",
            " \t \t \t \t PAYSLIP \n",
            "\n",
            "WEEK ENDING 15/12/2020 \n",
            "Employee: Mark Higher \n",
            "Employee Number: 2020higher \n",
            "\n",
            "\t \t Earnings \t \t \t \t Deductions\n",
            "\t \t Hours \t Rate(€) \t Total(€)\n",
            "Hours (normal) \t 37.50 \t 11.00 \t \t 412.50 \t Tax @ 20.0% \t 82.50 euro\n",
            "Hours (overtime) 2.50 \t 16.50 \t \t 41.25 \t \t Tax @ 50.0% \t 20.62 euro\n",
            "\n",
            " \t \t Total pay: €453.75\n",
            "\t \t Total deductions: €103.12\n",
            "\t \t Net pay: €350.62\n"
          ],
          "name": "stdout"
        }
      ]
    },
    {
      "cell_type": "code",
      "metadata": {
        "id": "_fuew3P2VH5l"
      },
      "source": [
        ""
      ],
      "execution_count": null,
      "outputs": []
    }
  ]
}